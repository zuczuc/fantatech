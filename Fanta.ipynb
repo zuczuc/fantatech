{
 "cells": [
  {
   "cell_type": "code",
   "execution_count": null,
   "metadata": {},
   "outputs": [],
   "source": [
    "from ipywidgets import Button, Dropdown, HBox, HTML, Output, Text, VBox\n",
    "from collections import OrderedDict\n",
    "import matplotlib.pyplot as plt                                                                                                                                   \n",
    "import numpy as np\n",
    "import os\n",
    "import pandas as pd\n",
    "import seaborn as sns\n",
    "\n",
    "%matplotlib agg\n",
    "\n",
    "\n",
    "os.chdir(\"C:/Users/zuk-8/Documents_AZ/Projects/Fanta\")"
   ]
  },
  {
   "cell_type": "markdown",
   "metadata": {},
   "source": [
    "## Global variables"
   ]
  },
  {
   "cell_type": "code",
   "execution_count": null,
   "metadata": {},
   "outputs": [],
   "source": [
    "VOTO_TYPE = 'Voto_Italia'"
   ]
  },
  {
   "cell_type": "code",
   "execution_count": null,
   "metadata": {},
   "outputs": [],
   "source": [
    "df = pd.read_csv('Output_FC/output_fc.csv')"
   ]
  },
  {
   "cell_type": "code",
   "execution_count": null,
   "metadata": {},
   "outputs": [],
   "source": [
    "GAMES_PS = df[['Week', 'Season']].drop_duplicates().groupby('Season').count()\n",
    "GAMES_PS"
   ]
  },
  {
   "cell_type": "markdown",
   "metadata": {},
   "source": [
    "## Penalties"
   ]
  },
  {
   "cell_type": "code",
   "execution_count": null,
   "metadata": {},
   "outputs": [],
   "source": [
    "penalties = pd.concat([df.loc[df['Rf']>0], df.loc[df['Rs']>0]])[['Season', 'Rf', 'Rs']].groupby('Season').sum()\n",
    "penalties['Penalties'] = penalties['Rf'] + penalties['Rs']\n",
    "penalties['Score_Ratio'] = (penalties['Rf'] / penalties['Penalties']) * 100\n",
    "penalties['Points'] = 3*penalties['Rf'] -3*penalties['Rs']\n",
    "penalties.astype(int)"
   ]
  },
  {
   "cell_type": "markdown",
   "metadata": {},
   "source": [
    "## Grades"
   ]
  },
  {
   "cell_type": "code",
   "execution_count": null,
   "metadata": {},
   "outputs": [],
   "source": [
    "def get_bonus(row, penalty=True):\n",
    "    goals = 3*row['Gf'] - row['Gs'] - 2*row['Au']\n",
    "    penalties = 3*row['Rp'] - 3*row['Rs'] + 3*row['Rf']\n",
    "    assists = row['Ass'] + row['Asf']\n",
    "    malus = - 0.5*row['Amm'] - row['Esp']\n",
    "    if penalty is True:\n",
    "        return goals + penalties + assists + malus\n",
    "    elif penalty is False:\n",
    "        return goals + assists + malus\n",
    "    else:\n",
    "        raise ValueError(\"penalty must be either True or False\")\n",
    "        return None\n",
    "\n",
    "\n",
    "def get_bonus_nop(row):\n",
    "    return get_bonus(row, penalty=False)\n"
   ]
  },
  {
   "cell_type": "code",
   "execution_count": null,
   "metadata": {},
   "outputs": [],
   "source": [
    "# Add bonuses\n",
    "df['Bonus'] = df.apply(get_bonus, axis=1)\n",
    "df['Bonus_nop'] = df.apply(get_bonus_nop, axis=1)"
   ]
  },
  {
   "cell_type": "code",
   "execution_count": null,
   "metadata": {
    "scrolled": false
   },
   "outputs": [],
   "source": [
    "# Stats per role\n",
    "avg_grade_role = df.set_index('Ruolo')[[VOTO_TYPE,'Bonus_nop']].sum(1).reset_index().groupby('Ruolo').mean()[0].round(2)\n",
    "std_grade_role = df.set_index('Ruolo')[[VOTO_TYPE,'Bonus_nop']].sum(1).reset_index().groupby('Ruolo').std()[0].round(2)\n",
    "# avg_grade_role = df.groupby(['Ruolo'])[['Voto_Italia','Bonus_nop']].mean().sum(1).round(2)\n",
    "avg_grade_role_season = df.groupby(['Ruolo', 'Season'])[['Voto_Italia','Bonus_nop']].mean().sum(1).unstack().round(2)\n",
    "REPLACEMENT_PER_ROLE = (avg_grade_role - 0.5 * std_grade_role).round(2)\n",
    "print('Average grades per role')\n",
    "print(avg_grade_role)\n",
    "print('\\nAverage grades per role for replacements')\n",
    "print(REPLACEMENT_PER_ROLE)\n",
    "print('Average grades per role by season')\n",
    "print(avg_grade_role_season)"
   ]
  },
  {
   "cell_type": "code",
   "execution_count": null,
   "metadata": {},
   "outputs": [],
   "source": [
    "def compute_score(raw_stats, expected_games=None, replacement_score=None):\n",
    "    if expected_games is None:\n",
    "        expected_games = sum([GAMES_PS.loc[season, 'Week'] for season in raw_stats['Season'].unique()])\n",
    "    if replacement_score is None:\n",
    "        role = raw_stats.groupby('Ruolo')['Week'].count().sort_values(ascending=False).index[0]\n",
    "        replacement_score = REPLACEMENT_PER_ROLE[role]\n",
    "    games_played = len(raw_stats.index)\n",
    "    if games_played > expected_games:\n",
    "        raise ValueError(f\"games_played ({games_played}) > expected_games ({expected_games})\")\n",
    "    sum_grades = raw_stats[[VOTO_TYPE,'Bonus_nop']].sum(1)\n",
    "    return ((sum_grades.sum() + (expected_games-games_played) * replacement_score) / expected_games).round(2)\n",
    "\n",
    "\n",
    "def predict_score(stats, year=2019):\n",
    "    if year-1 not in stats.columns:\n",
    "        return np.NaN\n",
    "    if year-2 not in stats.columns:\n",
    "        return stats.loc['Score', year-1]\n",
    "    pred_last2 = (2*stats.loc['Score', year-1] + stats.loc['Score', year-2])/3\n",
    "    return pred_last2"
   ]
  },
  {
   "cell_type": "markdown",
   "metadata": {},
   "source": [
    "## Player class"
   ]
  },
  {
   "cell_type": "code",
   "execution_count": null,
   "metadata": {
    "scrolled": false
   },
   "outputs": [],
   "source": [
    "def search_id_from_name(name):\n",
    "    pass\n",
    "\n",
    "\n",
    "def get_player_id_from_name(name):\n",
    "    ids = [int(x) for x in df[df['Nome']==name.upper()]['Fantacalcio_id'].unique()]\n",
    "    if len(ids) == 1:\n",
    "        return ids[0]\n",
    "    elif len(ids) == 0:\n",
    "        raise ValueError(f\"Couldn't find any grades for player {name}\")\n",
    "        # search_id_from_name(name)\n",
    "    elif len(ids) > 1:\n",
    "        raise ValueError(f\"Found more than 1 ID for player {name}: {ids}\")\n",
    "    else:\n",
    "        raise ValueError(\"Unclear error\")\n",
    "\n",
    "\n",
    "def get_season_week_str(row):\n",
    "    season = row['Season']\n",
    "    week = row['Week']\n",
    "    return f\"{str(int(season))}-{str(int(season)-1999)} week {week:02d}\"\n",
    "\n",
    "\n",
    "def get_first_last_team(team):\n",
    "    team = team.sort_values(by=['Season', 'Week'])\n",
    "    team_name = team.iloc[0]['Team']\n",
    "    first = get_season_week_str(team.iloc[0])\n",
    "    for row in team.index:\n",
    "        if team.loc[row]['Team'] == team_name:\n",
    "            last = get_season_week_str(team.iloc[0])\n",
    "            team = team.drop(index=row, axis=1)\n",
    "        else:\n",
    "            return f\"{team_name} from {first} to {last}\", team\n",
    "    return f\"{team_name} from {first} to {last}\", None\n",
    "\n",
    "\n",
    "def get_teams_from_fcid(fc_id):\n",
    "    team = df.loc[df['Fantacalcio_id']==fc_id, ['Team', 'Week', 'Season']]\n",
    "#     team.groupby(['Season', 'Team'])['Week'].agg(['min', 'max'])\n",
    "    teams = list()\n",
    "    while team is not None:\n",
    "        first_last, team = get_first_last_team(team)\n",
    "        teams.append(first_last)\n",
    "    return teams\n",
    "\n",
    "\n",
    "def get_roles_from_fcid(fc_id):\n",
    "    role = df.loc[df['Fantacalcio_id']==fc_id, ['Ruolo', 'Week', 'Season']]\n",
    "    return role.groupby('Season').first()['Ruolo']\n",
    "\n",
    "\n",
    "def get_raw_stats_from_fcid(fc_id):\n",
    "    stats = df.loc[df['Fantacalcio_id']==fc_id].copy()\n",
    "    return stats\n",
    "\n",
    "\n",
    "def player_stats(raw_stats):\n",
    "    stats = OrderedDict([])\n",
    "    stats['Game'] = len(raw_stats.index)\n",
    "    stats['Score'] = compute_score(raw_stats)\n",
    "    for col in raw_stats.columns:\n",
    "        if any([col.startswith('Voto_'), col.startswith('Bonus')]):\n",
    "            stats[col] = raw_stats[col].mean()\n",
    "    stats['Bonus'] = raw_stats['Bonus'].mean()\n",
    "    stats['Bonus_nop'] = raw_stats['Bonus_nop'].mean()\n",
    "    if any(raw_stats['Ruolo']=='P'):\n",
    "        stats['Goal_Conceded'] = raw_stats['Gs'].sum()\n",
    "        stats['Penalty_Saved'] = raw_stats['Rp'].sum()\n",
    "    elif all(raw_stats['Ruolo']!='P'):\n",
    "        stats['Goal_Scored'] = raw_stats['Gf'].sum()\n",
    "        stats['Penalty_Scored'] = raw_stats['Rf'].sum()\n",
    "        stats['Penalty_Missed'] = raw_stats['Rs'].sum()\n",
    "        stats['Assist'] = raw_stats['Ass'].sum() + raw_stats['Asf'].sum()\n",
    "    else:\n",
    "        raise ValueError(\"Role is unclear: 'P' for some but not all games\")\n",
    "    stats['Own_Goal'] = raw_stats['Au'].sum()\n",
    "    stats['Red_Card'] = raw_stats['Esp'].sum()\n",
    "    stats['Yellow_Card'] = raw_stats['Amm'].sum()\n",
    "    return stats\n",
    "\n",
    "\n",
    "def analyse_stats(raw_stats):\n",
    "    # Total\n",
    "    stats = player_stats(raw_stats)\n",
    "    all_stats = pd.Series(stats).to_frame('Total')\n",
    "    all_stats['Avg'] = all_stats['Total'].iloc[7:] / stats['Game']\n",
    "    # Season\n",
    "    seasons = raw_stats['Season'].unique()[::-1]\n",
    "    stats_py = OrderedDict([(season, player_stats(raw_stats.loc[df['Season']==season])) for season in seasons])\n",
    "    all_stats = all_stats.join(pd.DataFrame(stats_py), how='right')\n",
    "    # Team\n",
    "    teams = raw_stats['Team'].iloc[::-1].unique()\n",
    "    stats_team = OrderedDict([(team, player_stats(raw_stats.loc[df['Team']==team])) for team in teams])\n",
    "    all_stats = all_stats.join(pd.DataFrame(stats_team))\n",
    "    # Role\n",
    "    ruolo = raw_stats.groupby('Season').first()[['Ruolo']].T\n",
    "    # Concat\n",
    "    all_stats = pd.concat([all_stats.round(2), ruolo])\n",
    "    all_stats = all_stats[['Total'] + [t for t in teams] + [s for s in seasons] + ['Avg']]\n",
    "    return all_stats\n",
    "\n",
    "\n",
    "\n",
    "class Player(VBox):\n",
    "    \n",
    "    def __init__(self):\n",
    "        self.title_ipy = HTML(f'<h2 style=\"color:DarkSlateBlue;\"><b>Player Analysis</h2></b>')\n",
    "        self.player_ipy = Text(value='Skriniar')\n",
    "        self.compute_ipy = Button(description='Compute')\n",
    "        self.compute_ipy.on_click(lambda x: self.show_output())\n",
    "        self.output_ipy = VBox()\n",
    "        self.output_chart1_ipy = Output()\n",
    "        self.output_chart2_ipy = Output()\n",
    "        super().__init__(children=[self.title_ipy, self.player_ipy, self.compute_ipy, self.output_ipy])\n",
    "    \n",
    "    @property\n",
    "    def name(self):\n",
    "        return self.player_ipy.value\n",
    "    \n",
    "    def get_data(self):\n",
    "        self.fc_id = get_player_id_from_name(self.name)\n",
    "        self.teams = get_teams_from_fcid(self.fc_id)\n",
    "        self.roles = get_roles_from_fcid(self.fc_id)\n",
    "        self.raw_stats = get_raw_stats_from_fcid(self.fc_id)\n",
    "        self.stats = analyse_stats(self.raw_stats)\n",
    "        self.score = predict_score(self.stats, 2020)\n",
    "        self.grades_by = self.raw_stats.set_index(['Season', 'Week'])[VOTO_TYPE].unstack(0) - 6\n",
    "        self.grades_bonus_by = self.raw_stats.set_index(['Season', 'Week'])[[VOTO_TYPE,'Bonus_nop']].sum(1).unstack(0) - 6\n",
    "    \n",
    "    def show_output(self):\n",
    "        self.get_data()\n",
    "        self.score_ipy = HTML(f'<h4 style=\"color:DarkSlateBlue;\"><b>Score</b></h4>Predicted score is <b><i>{self.score:.2f}</b></i>')\n",
    "        self.teams_ipy = HTML(f'<h4 style=\"color:DarkSlateBlue;\"><b>Teams</b></h4>{\"<br>\".join(self.teams)}')\n",
    "        self.stats_ipy = HTML(f'<h4 style=\"color:DarkSlateBlue;\"><b>Stats</b></h4>{self.stats.fillna(\"-\").to_html()}')\n",
    "        # Charts\n",
    "        self.output_chart1_ipy.clear_output()\n",
    "        with self.output_chart1_ipy:\n",
    "            self.chart_grades_ipy = self.grades_by.plot(kind='bar', figsize=(14,4), title='Plain Grades', legend='outside')\n",
    "        self.output_chart2_ipy.clear_output()\n",
    "        with self.output_chart2_ipy:\n",
    "            self.chart_grades_bonus_ipy = self.grades_bonus_by.plot(kind='bar', figsize=(14,4), title='Grades with Bonus', legend='outside')\n",
    "        self.output_ipy.children = [\n",
    "                HBox([VBox([self.score_ipy, self.teams_ipy]), self.stats_ipy]),\n",
    "                self.output_chart1_ipy,\n",
    "                self.output_chart2_ipy,\n",
    "        ]\n",
    "        return None\n",
    "\n",
    "\n",
    "player = Player()\n",
    "player.show_output()\n",
    "player"
   ]
  }
 ],
 "metadata": {
  "kernelspec": {
   "display_name": "Python 3",
   "language": "python",
   "name": "python3"
  },
  "language_info": {
   "codemirror_mode": {
    "name": "ipython",
    "version": 3
   },
   "file_extension": ".py",
   "mimetype": "text/x-python",
   "name": "python",
   "nbconvert_exporter": "python",
   "pygments_lexer": "ipython3",
   "version": "3.7.6"
  }
 },
 "nbformat": 4,
 "nbformat_minor": 4
}
